{
 "cells": [
  {
   "cell_type": "code",
   "execution_count": 2,
   "id": "f33c85c0",
   "metadata": {},
   "outputs": [
    {
     "name": "stdout",
     "output_type": "stream",
     "text": [
      "Support = 0.400 (40.0%)\n",
      "Confidence = 0.6667 (66.7%)\n",
      "Matching choice: support = 40%, confidence = 66.7%\n"
     ]
    }
   ],
   "source": [
    "# transactions as lists of items\n",
    "transactions = {\n",
    "    1000: ['A', 'C'],\n",
    "    2000: ['A', 'B', 'C', 'D'],\n",
    "    3000: ['B', 'C', 'D'],\n",
    "    4000: ['A', 'C', 'D'],\n",
    "    5000: ['B', 'D'],\n",
    "}\n",
    "\n",
    "def support_confidence(transactions, antecedent, consequent):\n",
    "    \"\"\"\n",
    "    antecedent: iterable of items (e.g., ['A','C'])\n",
    "    consequent: iterable of items (e.g., ['D'])\n",
    "    returns (support, confidence) as fractions (0..1)\n",
    "    \"\"\"\n",
    "    antecedent = set(antecedent)\n",
    "    consequent = set(consequent)\n",
    "\n",
    "    total = len(transactions)\n",
    "    count_antecedent = 0\n",
    "    count_both = 0\n",
    "\n",
    "    for items in transactions.values():\n",
    "        s = set(items)\n",
    "        if antecedent.issubset(s):\n",
    "            count_antecedent += 1\n",
    "            if consequent.issubset(s):\n",
    "                count_both += 1\n",
    "\n",
    "    support = count_both / total if total else 0\n",
    "    confidence = count_both / count_antecedent if count_antecedent else 0\n",
    "    return support, confidence\n",
    "\n",
    "s, c = support_confidence(transactions, ['A','C'], ['D'])\n",
    "print(f\"Support = {s:.3f} ({s*100:.1f}%)\")\n",
    "print(f\"Confidence = {c:.4f} ({c*100:.1f}%)\")\n",
    "\n",
    "# Compare to given choices:\n",
    "choices = [\n",
    "    (\"support = 40%, confidence = 66.7%\", 0.40, 0.6667),\n",
    "    (\"support = 40%, confidence = 60%\",   0.40, 0.60),\n",
    "    (\"support = 60%, confidence = 40%\",   0.60, 0.40),\n",
    "    (\"support = 80%, confidence = 40%\",   0.80, 0.40),\n",
    "    (\"support = 60%, confidence = 66.7%\", 0.60, 0.6667),\n",
    "]\n",
    "\n",
    "for text, sc, cc in choices:\n",
    "    if abs(s - sc) < 1e-6 and abs(c - cc) < 1e-3:\n",
    "        print(\"Matching choice:\", text)\n",
    "        break\n",
    "else:\n",
    "    print(\"No exact matching choice found.\")"
   ]
  },
  {
   "cell_type": "code",
   "execution_count": null,
   "id": "d612bde4",
   "metadata": {
    "vscode": {
     "languageId": "markdown"
    }
   },
   "outputs": [],
   "source": [
    "from sklearn.linear_model import LinearRegression\n",
    "\n",
    "\n"
   ]
  },
  {
   "cell_type": "code",
   "execution_count": 1,
   "id": "5e61dc8a",
   "metadata": {
    "vscode": {
     "languageId": "markdown"
    }
   },
   "outputs": [
    {
     "ename": "SyntaxError",
     "evalue": "invalid syntax (923973081.py, line 1)",
     "output_type": "error",
     "traceback": [
      "  \u001b[36mCell\u001b[39m\u001b[36m \u001b[39m\u001b[32mIn[1]\u001b[39m\u001b[32m, line 1\u001b[39m\n\u001b[31m    \u001b[39m\u001b[31mGiven the linear regression model:\u001b[39m\n          ^\n\u001b[31mSyntaxError\u001b[39m\u001b[31m:\u001b[39m invalid syntax\n"
     ]
    }
   ],
   "source": [
    "\n",
    "Given the linear regression model:\n",
    "\n",
    "$$\n",
    "\\text{University GPA} = 0.675 \\times \\text{High School GPA} + 1.097\n",
    "$$\n",
    "\n",
    "For a student with a high school GPA of 3.45:\n",
    "\n",
    "$$\n",
    "\\text{University GPA} = 0.675 \\times 3.45 + 1.097 = 2.32875 + 1.097 = 3.42575\n",
    "$$\n",
    "\n",
    "**Predicted University GPA:** **3.43** (rounded to two decimal places)"
   ]
  },
  {
   "cell_type": "code",
   "execution_count": null,
   "id": "bbd8cd9d",
   "metadata": {
    "vscode": {
     "languageId": "markdown"
    }
   },
   "outputs": [],
   "source": []
  }
 ],
 "metadata": {
  "kernelspec": {
   "display_name": "Python 3",
   "language": "python",
   "name": "python3"
  },
  "language_info": {
   "codemirror_mode": {
    "name": "ipython",
    "version": 3
   },
   "file_extension": ".py",
   "mimetype": "text/x-python",
   "name": "python",
   "nbconvert_exporter": "python",
   "pygments_lexer": "ipython3",
   "version": "3.13.2"
  }
 },
 "nbformat": 4,
 "nbformat_minor": 5
}
