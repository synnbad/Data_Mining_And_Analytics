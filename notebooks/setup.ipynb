{
 "cells": [
  {
   "cell_type": "markdown",
   "id": "4e148ba9",
   "metadata": {},
   "source": [
    "# Data Mining and Analytics: Jupyter Notebook Setup\n",
    "\n",
    "This notebook helps you set up Jupyter and required Python libraries for LIS 5765 coursework. Follow the steps below to ensure your environment is ready for data mining and analytics."
   ]
  },
  {
   "cell_type": "code",
   "execution_count": null,
   "id": "ea5bf5db",
   "metadata": {},
   "outputs": [],
   "source": [
    "# Install required libraries\n",
    "!pip install pandas numpy matplotlib scikit-learn jupyter"
   ]
  },
  {
   "cell_type": "code",
   "execution_count": null,
   "id": "75c381b9",
   "metadata": {},
   "outputs": [],
   "source": [
    "# Verify library installation\n",
    "import pandas as pd\n",
    "import numpy as np\n",
    "import matplotlib\n",
    "import sklearn\n",
    "import jupyter\n",
    "\n",
    "print('pandas:', pd.__version__)\n",
    "print('numpy:', np.__version__)\n",
    "print('matplotlib:', matplotlib.__version__)\n",
    "print('scikit-learn:', sklearn.__version__)"
   ]
  },
  {
   "cell_type": "markdown",
   "id": "e68a4258",
   "metadata": {},
   "source": [
    "## Set Up Jupyter Notebook Environment\n",
    "\n",
    "If you see version numbers above, your environment is ready. You can now use Jupyter notebooks for your coursework."
   ]
  },
  {
   "cell_type": "code",
   "execution_count": null,
   "id": "5731d507",
   "metadata": {},
   "outputs": [],
   "source": [
    "# Test library imports\n",
    "try:\n",
    "    import pandas as pd\n",
    "    import numpy as np\n",
    "    import matplotlib.pyplot as plt\n",
    "    import sklearn\n",
    "    print('All libraries imported successfully!')\n",
    "except Exception as e:\n",
    "    print('Import error:', e)"
   ]
  }
 ],
 "metadata": {
  "language_info": {
   "name": "python"
  }
 },
 "nbformat": 4,
 "nbformat_minor": 5
}
