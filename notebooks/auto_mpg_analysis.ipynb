{
 "cells": [
  {
   "cell_type": "markdown",
   "id": "60545371",
   "metadata": {},
   "source": [
    "# Auto MPG — Quick Exploration\n",
    "\n",
    "Load `data/auto-mpg.tab` and run initial checks: head(), info(), describe(), missing values, and simple visualizations."
   ]
  },
  {
   "cell_type": "code",
   "execution_count": null,
   "id": "08b42b28",
   "metadata": {},
   "outputs": [],
   "source": [
    "# Imports\n",
    "import pandas as pd\n",
    "import numpy as np\n",
    "import matplotlib.pyplot as plt\n",
    "import seaborn as sns\n",
    "%matplotlib inline\n",
    "\n",
    "# Load the Auto MPG data\n",
    "cols = ['mpg','cylinders','displacement','horsepower','weight','acceleration','model_year','origin','car_name']\n",
    "df = pd.read_csv(r'..\\\\data\\\\auto-mpg.tab', sep='\\t', names=cols, comment='#', na_values='?')\n",
    "\n",
    "df.head()"
   ]
  },
  {
   "cell_type": "code",
   "execution_count": null,
   "id": "db47897f",
   "metadata": {},
   "outputs": [],
   "source": [
    "# Quick checks\n",
    "print('Shape:', df.shape)\n",
    "print('\\nInfo:\\n')\n",
    "print(df.info())\n",
    "\n",
    "# Describe numeric columns\n",
    "print('\\nDescribe:\\n', df.describe())\n",
    "\n",
    "# Missing values\n",
    "print('\\nMissing values:\\n', df.isnull().sum())\n",
    "\n",
    "# Simple plots\n",
    "sns.histplot(df['mpg'].dropna(), kde=True)\n",
    "plt.title('MPG Distribution')\n",
    "plt.show()\n",
    "\n",
    "sns.scatterplot(data=df, x='horsepower', y='mpg')\n",
    "plt.title('MPG vs Horsepower')\n",
    "plt.show()\n"
   ]
  },
  {
   "cell_type": "code",
   "execution_count": null,
   "id": "7e41aebb",
   "metadata": {},
   "outputs": [],
   "source": [
    "# Grouped plots inside the notebook\n",
    "grp = df.groupby('cylinders')\n",
    "avg_hp = grp['horsepower'].mean()\n",
    "avg_mpg = grp['mpg'].mean()\n",
    "\n",
    "plt.figure(figsize=(6,4))\n",
    "avg_hp.plot(kind='bar', color='C1')\n",
    "plt.xlabel('Cylinders')\n",
    "plt.ylabel('Average Horsepower')\n",
    "plt.title('Average Horsepower by Cylinder Count')\n",
    "plt.show()\n",
    "\n",
    "plt.figure(figsize=(6,4))\n",
    "avg_mpg.plot(kind='bar', color='C2')\n",
    "plt.xlabel('Cylinders')\n",
    "plt.ylabel('Average MPG')\n",
    "plt.title('Average MPG by Cylinder Count')\n",
    "plt.show()\n",
    "\n",
    "plt.figure(figsize=(6,5))\n",
    "sns.scatterplot(data=df, x='horsepower', y='mpg', hue='cylinders', palette='tab10')\n",
    "plt.title('MPG vs Horsepower (colored by cylinders)')\n",
    "plt.show()"
   ]
  },
  {
   "cell_type": "markdown",
   "id": "3fd5c2b5",
   "metadata": {},
   "source": [
    "## Rationale\n",
    "\n",
    "- Average horsepower by cylinders: bar chart shows how engine size (proxy by cylinder count) increases horsepower; high cylinders typically mean larger engines and higher horsepower. This explains why 8-cylinder cars top the horsepower list.\n",
    "- Average MPG by cylinders: bar chart shows fuel efficiency decreases as cylinder count increases; smaller engines (4 cylinders) tend to have higher MPG on average.\n",
    "- MPG vs Horsepower scatter: shows the negative relationship between horsepower and MPG, and the cylinder coloring highlights the clusters (4, 6, 8 cylinders). This supports the insight that higher horsepower (usually higher cylinders) leads to lower MPG.\n",
    "\n",
    "Next steps: run the notebook cells to render the plots. If you want, I can run them here and export the images into `results/`."
   ]
  }
 ],
 "metadata": {
  "language_info": {
   "name": "python"
  }
 },
 "nbformat": 4,
 "nbformat_minor": 5
}
