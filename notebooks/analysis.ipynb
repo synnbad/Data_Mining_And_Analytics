{
 "cells": [
  {
   "cell_type": "markdown",
   "id": "acf964b8",
   "metadata": {},
   "source": [
    "# Iris Dataset — Quick Analysis\n",
    "\n",
    "This notebook loads `data/iris.tab`, performs basic exploration, visualization, and trains a simple classifier (RandomForest) as a starter for your LIS 5765 work."
   ]
  },
  {
   "cell_type": "code",
   "execution_count": null,
   "id": "d960c90e",
   "metadata": {},
   "outputs": [],
   "source": [
    "# Imports\n",
    "import pandas as pd\n",
    "import numpy as np\n",
    "import matplotlib.pyplot as plt\n",
    "import seaborn as sns\n",
    "from sklearn.ensemble import RandomForestClassifier\n",
    "from sklearn.model_selection import train_test_split\n",
    "from sklearn.metrics import classification_report, accuracy_score\n",
    "\n",
    "sns.set(style='ticks')\n",
    "%matplotlib inline"
   ]
  },
  {
   "cell_type": "code",
   "execution_count": null,
   "id": "81e67100",
   "metadata": {},
   "outputs": [],
   "source": [
    "# Load data\n",
    "df = pd.read_csv(r'..\\data\\iris.tab', sep='\\t')\n",
    "df.head()"
   ]
  },
  {
   "cell_type": "code",
   "execution_count": null,
   "id": "2c076694",
   "metadata": {},
   "outputs": [],
   "source": [
    "# Summary statistics\n",
    "print(df.describe())\n",
    "print('\\nClass counts:\\n', df['Species'].value_counts())\n",
    "\n",
    "# Pairplot\n",
    "sns.pairplot(df, hue='Species')\n",
    "plt.show()"
   ]
  },
  {
   "cell_type": "code",
   "execution_count": null,
   "id": "37a63da4",
   "metadata": {},
   "outputs": [],
   "source": [
    "# Simple classification\n",
    "X = df.drop(columns=['Species'])\n",
    "y = df['Species']\n",
    "X_train, X_test, y_train, y_test = train_test_split(X, y, test_size=0.3, random_state=42)\n",
    "\n",
    "clf = RandomForestClassifier(random_state=42, n_estimators=100)\n",
    "clf.fit(X_train, y_train)\n",
    "y_pred = clf.predict(X_test)\n",
    "\n",
    "print('Accuracy:', accuracy_score(y_test, y_pred))\n",
    "print('\\nClassification report:\\n', classification_report(y_test, y_pred))"
   ]
  }
 ],
 "metadata": {
  "language_info": {
   "name": "python"
  }
 },
 "nbformat": 4,
 "nbformat_minor": 5
}
